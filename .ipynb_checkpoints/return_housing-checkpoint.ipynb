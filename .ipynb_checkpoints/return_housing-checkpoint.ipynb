{
 "cells": [
  {
   "cell_type": "markdown",
   "metadata": {},
   "source": [
    "# Return on Housing in Budapest\n",
    "We would like to provide the complete description of the analysis that we have performed in order to compute the realized ex-post return on housing in Budapest. We compute the nominal return on an average flat in Budapest. We make several important assumptions, and we would like to be explicit about them. We provide the code written in Python, so that the interested reader could change the assumptions and re-compute the return according to their preferences."
   ]
  },
  {
   "cell_type": "code",
   "execution_count": null,
   "metadata": {},
   "outputs": [],
   "source": [
    "# First, we need to import all the Python toolboxes necessary for the analysis\n",
    "import pandas as pd\n",
    "import math\n",
    "import numpy as np\n",
    "import requests\n",
    "import matplotlib.pyplot as plt"
   ]
  },
  {
   "cell_type": "markdown",
   "metadata": {},
   "source": [
    "### Data\n",
    "Aggregated data on rental rates are difficult to come by. We rely on the average rental rates per square meter published by ingatlannet.hu, which also includes the data on rents in Budapest:"
   ]
  },
  {
   "cell_type": "code",
   "execution_count": null,
   "metadata": {},
   "outputs": [],
   "source": [
    "# Download the data on rents per sq.m. from ingatlannet.hu\n",
    "dls = \"https://pic01.ingatlannet.hu/xlsx/statisztika/statisztika_20megye.xlsx\"\n",
    "resp = requests.get(dls)\n",
    "with open('ingatlannet.xls', 'wb') as output:\n",
    "    output.write(resp.content)\n",
    "    \n",
    "data_rent = pd.read_excel('ingatlannet.xls', sheet_name = 5, header=0, \n",
    "                     names=['month', 'rent'], usecols = [0, 1], skiprows = 1)\n",
    "data_price = pd.read_excel('ingatlannet.xls', sheet_name = 2, header=0, \n",
    "                     names=['month', 'price'], usecols = [0, 1], skiprows = 1)\n",
    "\n",
    "# Construct the vectors of years and quarters for which we have data\n",
    "y_min = int(data_rent['month'][0][0:4])\n",
    "y_max = int(data_rent['month'][len(data_rent['month'])-1][0:4])\n",
    "\n",
    "y = []\n",
    "q = []\n",
    "for yy in range(y_min, y_max+1):\n",
    "    y.extend(list(np.tile(yy,4)))\n",
    "    q.extend([1,2,3,4])\n",
    "\n",
    "m_max = int(data_rent['month'][len(data_rent['month'])-1][5:7])\n",
    "q_max = math.floor(m_max/3)\n",
    "y = y[0:-(4-q_max)]\n",
    "q = q[0:-(4-q_max)]\n",
    "date = np.add(y, [x/4 for x in q])\n",
    "\n",
    "# Construct the vector of nominal rents\n",
    "# There are missing values for some of the months, \n",
    "# so we use the latest available observation in each quarter\n",
    "m = [['03','02','01'], ['06','05','04'], ['09','08','07'], ['12','11','10']]\n",
    "r = []\n",
    "for i in range(0,len(y)):\n",
    "    try:\n",
    "        r_i = list(data_rent['month']).index(str(y[i])+\"-\"+m[q[i]-1][0])\n",
    "    except ValueError:\n",
    "        try:\n",
    "            r_i = list(data_rent['month']).index(str(y[i])+\"-\"+m[q[i]-1][1])\n",
    "        except ValueError:\n",
    "            try: \n",
    "                r_i = list(data_rent['month']).index(str(y[i])+\"-\"+m[q[i]-1][2])\n",
    "            except ValueError:\n",
    "                r_i = 'm'\n",
    "    if r_i == 'm':\n",
    "        r.extend(['missing'])\n",
    "    else:\n",
    "        r.extend([data_rent['rent'][r_i]])\n",
    "\n",
    "for i in range(0, r.count('missing')):\n",
    "    r_i = r.index('missing')\n",
    "    r[r_i] = r[r_i-1]/2 + r[r_i+1]/2\n",
    "    \n",
    "print('\\nData on rents per sq. m.: extracted from ingatlan.hu: \\n')\n",
    "\n",
    "plt.plot(date,r)\n",
    "plt.show()"
   ]
  },
  {
   "cell_type": "markdown",
   "metadata": {},
   "source": [
    "Also, as a starting point, we use the same source for the per-square-meter price of an average apartment at the end of 2018. For our calculations, we select the size of the apartment to be 50 sq.m. For such apartment, we compute the price and the rental rate at the end of 2018:"
   ]
  },
  {
   "cell_type": "code",
   "execution_count": null,
   "metadata": {},
   "outputs": [],
   "source": [
    "t = '2018-12'\n",
    "sqm = 50\n",
    "\n",
    "# Extract the data on the price and rent of a flat for the period specified by t and for the size specified by sqm\n",
    "rent_t = data_rent['rent'][list(data_rent['month']).index(t)] / 1000 * sqm\n",
    "price_t = data_price['price'][list(data_price['month']).index(t)] / 1000 * sqm\n",
    "\n",
    "print('\\nAccording to ingatlannet.hu, in '+t+', for an average '+str(sqm)+'-sq.m. apartment in Budapest,')\n",
    "print('\\t - the price is '+str(price_t)+' thousand forints, and')\n",
    "print('\\t - the rent is '+str(rent_t)+' thousand forints per month')"
   ]
  },
  {
   "cell_type": "markdown",
   "metadata": {},
   "source": [
    "As for the data on price dynamics, we consider MNB House Price Index to be the most reliable source. Using the average price at the end of 2018 extracted from ingatlannet.hu as our nominal anchor, we will be tracing the evolution of the price using the MNB data."
   ]
  },
  {
   "cell_type": "code",
   "execution_count": null,
   "metadata": {},
   "outputs": [],
   "source": [
    "# Download the data on price dynamics from MNB\n",
    "dls = \"https://www.mnb.hu/letoltes/mnb-lakasarindex.xlsx\"\n",
    "resp = requests.get(dls)\n",
    "with open('mnb.xls', 'wb') as output:\n",
    "    output.write(resp.content)\n",
    "    \n",
    "data_price = pd.read_excel('mnb.xls', sheet_name = 1, header=0, \n",
    "                     names=['quarter', 'price'], usecols = [1, 3], skiprows = 3)\n",
    "s = list(data_price['quarter']).index('2003. I.')\n",
    "n = list([str(e) for e in list(data_price['quarter'])]).index('nan')\n",
    "p = list(data_price['price'][s:n])\n",
    "\n",
    "print('\\n\\nNominal price index (2001q1 = 100) extracted from mnb.hu: \\n')\n",
    "fig2, ax2 = plt.subplots()\n",
    "ax2.plot(date[0:len(p)],p)\n",
    "plt.show()"
   ]
  },
  {
   "cell_type": "markdown",
   "metadata": {},
   "source": [
    "Finally, we combine the data from the two sources."
   ]
  },
  {
   "cell_type": "code",
   "execution_count": null,
   "metadata": {},
   "outputs": [],
   "source": [
    "# Combine the data on rents and prices from the two sources:\n",
    "r_apt = []\n",
    "p_apt = []\n",
    "ref = (int(t[0:4])-2003)*4 + math.floor(int(t[5:7])/3 - 1)\n",
    "for i in range(0,len(p)):\n",
    "    r_apt.extend([r[i]/r[ref] * rent_t])\n",
    "    p_apt.extend([p[i] / p[ref] * price_t])\n",
    "\n",
    "y = y[0:len(p)]\n",
    "q = q[0:len(p)]\n",
    "date = date[0:len(p)]"
   ]
  },
  {
   "cell_type": "markdown",
   "metadata": {},
   "source": [
    "### Residential Investment - Structure of the Project\n",
    "The next thing to think about is the structure of the residential investment project that we are going to consider. We make the following assumptions:\n",
    "* We assume a five-year project. That is, the apartment is purchased, rented out, and then sold after five years. This is a rather short project, considering how illiquid the real-estate market is and how few transactions an average person makes in this market during their lifetime. However, this horizon is definitely feasible. Moreover, one could think, for example, about a 10-year investment as a combination of two back-to-back investment projects. The benefit of considering five years is that that this way, we make housing investment comparable with investment into 5-year government bonds, which are very popular today. Also, 5-year horizon implies that there are no capital-gain taxes in case of both housing and bond investment.\n",
    "* We assume that the stamp duty equal to 4% has to be paid upon the purchase. The underlying assumption is that the apartment is bought on the market to be rented out to a third party, and that there were no additional property trades within one year before and after the purchase (which would complicated the analysis tremendously).\n",
    "* We assume that the owner signs a one-year rental contract with the tenant with a fixed rental rate, and then the rental rate is increased after every year in order to catch up with the market rate. This is in line with the common practice that the rental rate is re-negotiated once a year."
   ]
  }
 ],
 "metadata": {
  "kernelspec": {
   "display_name": "Python 3",
   "language": "python",
   "name": "python3"
  },
  "language_info": {
   "codemirror_mode": {
    "name": "ipython",
    "version": 3
   },
   "file_extension": ".py",
   "mimetype": "text/x-python",
   "name": "python",
   "nbconvert_exporter": "python",
   "pygments_lexer": "ipython3",
   "version": "3.7.4"
  }
 },
 "nbformat": 4,
 "nbformat_minor": 2
}
