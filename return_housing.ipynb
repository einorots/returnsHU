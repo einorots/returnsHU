{
 "cells": [
  {
   "cell_type": "markdown",
   "metadata": {},
   "source": [
    "# Return on Housing in Budapest\n",
    "We would like to provide the complete description of the analysis that we have performed in order to compute the realized ex-post return on housing in Budapest. We compute the nominal return on an average flat in Budapest. We make several important assumptions, and we would like to be explicit about them. We provide the code written in Python, so that the interested reader could change the assumptions and re-compute the return according to their preferences."
   ]
  },
  {
   "cell_type": "code",
   "execution_count": 1,
   "metadata": {},
   "outputs": [],
   "source": [
    "# Impport the necessary packages\n",
    "import pandas as pd\n",
    "import math\n",
    "import numpy as np\n",
    "import requests\n",
    "import matplotlib.pyplot as plt\n",
    "import os\n",
    "\n",
    "pd.options.display.float_format = '{: ,.2f}'.format"
   ]
  },
  {
   "cell_type": "markdown",
   "metadata": {},
   "source": [
    "### Data\n",
    "Aggregated data on rental rates are difficult to come by. We rely on the average rental rates per square meter published by ingatlannet.hu, which also includes the data on rents in Budapest:"
   ]
  },
  {
   "cell_type": "code",
   "execution_count": 2,
   "metadata": {},
   "outputs": [
    {
     "name": "stdout",
     "output_type": "stream",
     "text": [
      "data missing from ingatlannet.hu - using backup\n",
      "\n",
      "Data on rents per sq. m.: extracted from ingatlan.hu:\n"
     ]
    },
    {
     "data": {
      "image/png": "[encoded data removed]",
      "text/plain": [
       "<Figure size 432x288 with 1 Axes>"
      ]
     },
     "metadata": {
      "needs_background": "light"
     },
     "output_type": "display_data"
    }
   ],
   "source": [
    "# Download the data on rents per sq.m. from ingatlannet.hu\n",
    "dls = \"https://pic01.ingatlannet.hu/xlsx/statisztika/statisztika_20megye.xlsx\"\n",
    "resp = requests.get(dls)\n",
    "with open('ingatlannet.xls', 'wb') as output:\n",
    "    output.write(resp.content)\n",
    "\n",
    "# Use back-up file if the source no longer exists\n",
    "if resp.status_code == 404:\n",
    "    from shutil import copy\n",
    "    copy(\"backup/ingtlannet_rents_prices_BP.xls\",\"ingatlannet.xls\")\n",
    "    print(\"data missing from ingatlannet.hu - using backup\")\n",
    "\n",
    "    \n",
    "data_rent = pd.read_excel('ingatlannet.xls', sheet_name = 5, header=0, \n",
    "                     names=['month', 'rent'], usecols = [0, 1], skiprows = 1)\n",
    "data_price = pd.read_excel('ingatlannet.xls', sheet_name = 2, header=0, \n",
    "                     names=['month', 'price'], usecols = [0, 1], skiprows = 1)\n",
    "\n",
    "# Construct the vectors of years and quarters for which we have data\n",
    "y_min = int(data_rent['month'][0][0:4])\n",
    "y_max = int(data_rent['month'][len(data_rent['month'])-1][0:4])\n",
    "\n",
    "y = []\n",
    "q = []\n",
    "for yy in range(y_min, y_max+1):\n",
    "    y.extend(list(np.tile(yy,4)))\n",
    "    q.extend([1,2,3,4])\n",
    "\n",
    "m_max = int(data_rent['month'][len(data_rent['month'])-1][5:7])\n",
    "q_max = math.floor(m_max/3)\n",
    "y = y[0:-(4-q_max)]\n",
    "q = q[0:-(4-q_max)]\n",
    "date = np.add(y, [x/4 for x in q])\n",
    "\n",
    "# Construct the vector of nominal rents\n",
    "# There are missing values for some of the months, \n",
    "# so we use the latest available observation in each quarter\n",
    "m = [['03','02','01'], ['06','05','04'], ['09','08','07'], ['12','11','10']]\n",
    "r = []\n",
    "for i in range(0,len(y)):\n",
    "    try:\n",
    "        r_i = list(data_rent['month']).index(str(y[i])+\"-\"+m[q[i]-1][0])\n",
    "    except ValueError:\n",
    "        try:\n",
    "            r_i = list(data_rent['month']).index(str(y[i])+\"-\"+m[q[i]-1][1])\n",
    "        except ValueError:\n",
    "            try: \n",
    "                r_i = list(data_rent['month']).index(str(y[i])+\"-\"+m[q[i]-1][2])\n",
    "            except ValueError:\n",
    "                r_i = 'm'\n",
    "    if r_i == 'm':\n",
    "        r.extend(['missing'])\n",
    "    else:\n",
    "        r.extend([data_rent['rent'][r_i]])\n",
    "\n",
    "for i in range(0, r.count('missing')):\n",
    "    r_i = r.index('missing')\n",
    "    r[r_i] = r[r_i-1]/2 + r[r_i+1]/2\n",
    "    \n",
    "print('\\nData on rents per sq. m.: extracted from ingatlan.hu:')\n",
    "\n",
    "plt.plot(date,r)\n",
    "plt.show()"
   ]
  },
  {
   "cell_type": "markdown",
   "metadata": {},
   "source": [
    "Also, as a starting point, we use the same source for the per-square-meter price of an average apartment at the end of 2018. For our calculations, we select the size of the apartment to be 50 sq.m. For such apartment, we compute the price and the rental rate at the end of 2018:"
   ]
  },
  {
   "cell_type": "code",
   "execution_count": 3,
   "metadata": {},
   "outputs": [
    {
     "name": "stdout",
     "output_type": "stream",
     "text": [
      "\n",
      "According to ingatlannet.hu, in 2018-12, for an average 50-sq.m. apartment in Budapest,\n",
      "\t - the price is 35000 thousand forints, and\n",
      "\t - the rent is 150 thousand forints per month\n"
     ]
    }
   ],
   "source": [
    "# Extract the data on the price and rent of a house at the end of 2018\n",
    "t = '2018-12'\n",
    "sqm = 50\n",
    "rent_t = 150#data_rent['rent'][list(data_rent['month']).index(t)] / 1000 * sqm\n",
    "price_t = 35000#data_price['price'][list(data_price['month']).index(t)] / 1000 * sqm\n",
    "\n",
    "print('\\nAccording to ingatlannet.hu, in '+t+', for an average '+str(sqm)+'-sq.m. apartment in Budapest,')\n",
    "print('\\t - the price is '+str(price_t)+' thousand forints, and')\n",
    "print('\\t - the rent is '+str(rent_t)+' thousand forints per month')"
   ]
  },
  {
   "cell_type": "markdown",
   "metadata": {},
   "source": [
    "As for the data on price dynamics, we consider MNB House Price Index to be the most reliable source. Using the average price at the end of 2018 extracted from ingatlannet.hu as our nominal anchor, we will be tracing the evolution of the price using the MNB data."
   ]
  },
  {
   "cell_type": "code",
   "execution_count": 4,
   "metadata": {},
   "outputs": [
    {
     "name": "stdout",
     "output_type": "stream",
     "text": [
      "\n",
      "Nominal price index (2001q1 = 100) extracted from mnb.hu:\n"
     ]
    },
    {
     "data": {
      "image/png": "[encoded data removed]",
      "text/plain": [
       "<Figure size 432x288 with 1 Axes>"
      ]
     },
     "metadata": {
      "needs_background": "light"
     },
     "output_type": "display_data"
    }
   ],
   "source": [
    "# Download the data on rents per sq.m. from ingatlannet.hu\n",
    "dls = \"https://www.mnb.hu/letoltes/mnb-lakasarindex.xlsx\"\n",
    "resp = requests.get(dls)\n",
    "with open('mnb_houseprice.xls', 'wb') as output:\n",
    "    output.write(resp.content)\n",
    "\n",
    "# Use back-up file if the source no longer exists\n",
    "if resp.status_code == 404:\n",
    "    from shutil import copy\n",
    "    copy(\"backup/mnb_house_price_index.xls\",\"mnb_houseprice.xls\")\n",
    "    print(\"data missing from mnb.hu - using backup\")\n",
    "    \n",
    "data_price = pd.read_excel('mnb_houseprice.xls', sheet_name = 1, header=0, \n",
    "                     names=['quarter', 'price'], usecols = [1, 3], skiprows = 3)\n",
    "s = list(data_price['quarter']).index('2003. I.')\n",
    "n = list([str(e) for e in list(data_price['quarter'])]).index('nan')\n",
    "p = list(data_price['price'][s:n])\n",
    "\n",
    "print('\\nNominal price index (2001q1 = 100) extracted from mnb.hu:')\n",
    "fig2, ax2 = plt.subplots()\n",
    "ax2.plot(date[0:len(p)],p)\n",
    "plt.show()"
   ]
  },
  {
   "cell_type": "markdown",
   "metadata": {},
   "source": [
    "Finally, we combine the data from the two sources."
   ]
  },
  {
   "cell_type": "code",
   "execution_count": 5,
   "metadata": {},
   "outputs": [
    {
     "name": "stdout",
     "output_type": "stream",
     "text": [
      "\n",
      "Combined data for a 50-sq.m. average apartment in Budapest:\n",
      "\n",
      "   Year  Quarter      Price  M. Rent\n",
      "0  2003        1  13,014.09    69.77\n",
      "1  2003        2  13,685.68    67.63\n",
      "2  2003        3  13,767.36    56.92\n",
      "3  2003        4  15,500.81    55.36\n",
      "4  2004        1  14,522.97    58.03\n",
      "...\n"
     ]
    }
   ],
   "source": [
    "# Combine the data on rents and prices from the two sources:\n",
    "r_apt = []\n",
    "p_apt = []\n",
    "ref = (int(t[0:4])-2003)*4 + math.floor(int(t[5:7])/3 - 1)\n",
    "for i in range(0,len(p)):\n",
    "    r_apt.extend([r[i]/r[ref] * rent_t])\n",
    "    p_apt.extend([p[i] / p[ref] * price_t])\n",
    "\n",
    "y = y[0:len(p)]\n",
    "q = q[0:len(p)]\n",
    "date = date[0:len(p)]\n",
    "\n",
    "combined = pd.DataFrame({'Year':y, 'Quarter':q, 'Price':p_apt, 'M. Rent':r_apt})\n",
    "\n",
    "print('\\nCombined data for a '+str(sqm)+'-sq.m. average apartment in Budapest:\\n')\n",
    "print(combined.head(5))\n",
    "print('...')"
   ]
  },
  {
   "cell_type": "markdown",
   "metadata": {},
   "source": [
    "### Residential Investment - Structure of the Project\n",
    "The next thing to think about is the structure of the residential investment project that we are going to consider. We make the following assumptions:\n",
    "* We assume a five-year project. That is, the apartment is purchased, rented out, and then sold after five years. This is a rather short project, considering how illiquid the real-estate market is and how few transactions an average person makes in this market during their lifetime. However, this horizon is definitely feasible. Moreover, one could think, for example, about a 10-year investment as a combination of two back-to-back investment projects. The benefit of considering five years is that that this way, we make housing investment comparable with investment into 5-year government bonds, which are very popular today. Also, 5-year horizon implies that there are no capital-gain taxes in case of both housing and bond investment.\n",
    "* We assume that the owner signs a one-year rental contract with the tenant with a fixed rental rate, and then the rental rate is increased after every year in order to catch up with the market rate. This is in line with the common practice that the rental rate is re-negotiated once a year."
   ]
  },
  {
   "cell_type": "code",
   "execution_count": 6,
   "metadata": {},
   "outputs": [
    {
     "name": "stdout",
     "output_type": "stream",
     "text": [
      "\n",
      "The data on cash flows for the five-year project:\n",
      "\n",
      "      Y  Q       Sell  Rent Y5  Rent Y4  Rent Y3  Rent Y2  Rent Y1        Buy\n",
      "0  2008  1  16,554.98    60.86    62.75    62.75    58.03    69.77 -13,014.09\n",
      "1  2008  2  17,048.67    63.12    63.45    62.91    60.16    67.63 -13,685.68\n",
      "2  2008  3  17,266.57    65.62    63.82    62.26    61.48    56.92 -13,767.36\n",
      "3  2008  4  17,164.81    66.24    62.38    61.72    62.01    55.36 -15,500.81\n",
      "4  2009  1  16,570.25    70.42    60.86    62.75    62.75    58.03 -14,522.97\n",
      "...\n"
     ]
    }
   ],
   "source": [
    "# Reformat the data to record the buyinig, the selling prices, \n",
    "# and the rents for the last 5 years\n",
    "data = pd.DataFrame({'Y':y[20:],'Q':q[20:],'Sell':p_apt[20:],\n",
    "                     'Rent Y5':r_apt[16:-4],'Rent Y4':r_apt[12:-8],'Rent Y3':r_apt[8:-12],\n",
    "                     'Rent Y2':r_apt[4:-16],'Rent Y1':r_apt[0:-20],'Buy':[-x for x in p_apt[0:-20]]})\n",
    "\n",
    "\n",
    "print('\\nThe data on cash flows for the five-year project:\\n')\n",
    "print(data.head(5))\n",
    "print('...')"
   ]
  },
  {
   "cell_type": "markdown",
   "metadata": {},
   "source": [
    "### Assumptions about the costs\n",
    "On top of this structure of the cash flows, we impose additional costs that we think represent the market for real estate:\n",
    "* We assume that the stamp duty equal to 4% has to be paid upon the purchase. The underlying assumption is that the apartment is bought on the market to be rented out to a third party, and that there were no additional property trades within one year before and after the purchase (which would complicated the analysis tremendously). The duty is usually paid with a significant delay, and in case of a first purchase, it can be paid in 12 installments over 12 months. We assume that the duty is paid 6 months after the purchase.\n",
    "* We assume that the investor must hire a lawyer to buy and sell the apartment. The costs of a lawyer are assumed to be 1% of the house price, which is within the range of 0.5-1.5% that one can typically find on the market.\n",
    "* It is true that the investor can buy and sell the real estate without the realtor, by means of an online aggregator. To represent an average case, we assume that the investor uses the realtor to sell the apartment, but set the cost rather low, equal to 1% of the price of the apartment.\n",
    "* The rental income is taxed. We assume that the investor files itemized deductions, so instead of paying 15% on 90% of total rental income, including payments for utilities, we assume that the investor pays 15% on the rent without utilities and net of depreciation. In addition, according to the Hungarian Tax Code, an additional 14% tax is imposed on any rental income exceeding 1 million forints within a calendar year. Also, the general guidelines by the Tax Authority suggest that the taxes should be paid simultaneously with the incoming payments, so we deduct the taxes from the rent in each month, and we deduct the extra 14% tax starting from the month when the total rental income exceeds 1 million forints.\n",
    "* We assume that the flat depreciates at 2% per year. This rate is in line with existing international evidence on the depreciation rates for residential property, and it is in line with the Tax Code: for example, the deductible depreciation costs for long-term buildings owned by corporations is set at 2% per year."
   ]
  },
  {
   "cell_type": "code",
   "execution_count": 7,
   "metadata": {},
   "outputs": [],
   "source": [
    "# Assumptions\n",
    "deprate = 0.02       # NAV 2%\n",
    "purchase_tax = 0.04  # only paid if the first time purchase, ~6 months after the purchase\n",
    "realtor_cost = 0.01  # only paid by the seller\n",
    "legal_costs  = 0.01  # lawyer + land registry and transfer of utilities - both sales and purchases"
   ]
  },
  {
   "cell_type": "markdown",
   "metadata": {},
   "source": [
    "Taking all these costs into account, we can finally get a more realistic set of cash flows for 61 months from the purchase to the sale of the apartment and compute the internal rate of return on residential property in Budapest:"
   ]
  },
  {
   "cell_type": "code",
   "execution_count": 8,
   "metadata": {},
   "outputs": [
    {
     "name": "stdout",
     "output_type": "stream",
     "text": [
      "\n",
      "Nominal realized IRR on 5-year investment into housing:\n"
     ]
    },
    {
     "data": {
      "image/png": "[encoded data removed]",
      "text/plain": [
       "<Figure size 432x288 with 1 Axes>"
      ]
     },
     "metadata": {
      "needs_background": "light"
     },
     "output_type": "display_data"
    }
   ],
   "source": [
    "rates = []\n",
    "\n",
    "for q in range(0,len(data['Y'])):\n",
    "    # Compute the monthly cash flows\n",
    "    # Compute the rental checks\n",
    "    rent = []\n",
    "    renty = []\n",
    "    for y in range(1,6):\n",
    "        rent.extend(list(np.tile(data['Rent Y'+str(y)][q],12)))\n",
    "        renty.extend(list(np.tile(data['Y'][q]-6+y,data['Q'][q]*3)))\n",
    "        renty.extend(list(np.tile(data['Y'][q]-5+y,(4-data['Q'][q])*3)))\n",
    "    \n",
    "    # Compute the taxes imposed on rental income\n",
    "    in_tx = []\n",
    "    hc_tx = []\n",
    "    ys = list(range(min(renty),max(renty)+1))\n",
    "    for y in ys:\n",
    "        indices = [i for i, x in enumerate(renty) if x == y]\n",
    "        rent_y = rent[min(indices):max(indices)+1]\n",
    "        in_tx.extend([i * 0.15 for i in rent_y])\n",
    "        y_tot = 0\n",
    "        for x in rent_y:\n",
    "            y_tot = y_tot + x\n",
    "            if y_tot <= 1000:\n",
    "                hc_tx.extend([0])\n",
    "            else:\n",
    "                hc_tx.extend([min(x*.14, (y_tot-1000)*.14)])\n",
    "    \n",
    "    # Compute the depreciation per month\n",
    "    dep = []\n",
    "    for price in p_apt[q:q+20]:\n",
    "        dep.extend(list(np.tile(price * deprate / 12 * 0.85, 3)))\n",
    "    \n",
    "    # Assemble the cash flows together\n",
    "    cf_all = [data['Buy'][q]*(1+legal_costs)]\n",
    "    for i, x in enumerate(rent):\n",
    "        cf_all.extend([rent[i]-in_tx[i]-hc_tx[i]-dep[i]])\n",
    "    cf_all[6] = cf_all[6] + data['Buy'][q]*purchase_tax\n",
    "    cf_all[-1] = cf_all[-1] + data['Sell'][q]*(1-realtor_cost-legal_costs)\n",
    "    \n",
    "    # Compute annualized IRR from monthly cash flows\n",
    "    r_q = ((1+np.irr(cf_all))**12 - 1)*100\n",
    "    \n",
    "    # Record the results\n",
    "    rates.extend([r_q])\n",
    "\n",
    "# Plot the series\n",
    "print('\\nNominal realized IRR on 5-year investment into housing:')\n",
    "plt.plot(date[20:],rates)\n",
    "plt.show()"
   ]
  },
  {
   "cell_type": "code",
   "execution_count": 9,
   "metadata": {},
   "outputs": [],
   "source": [
    "# Write the output in an xls file\n",
    "\n",
    "#data = pd.DataFrame({'Date':date[20:],'Rate':rates})\n",
    "#data.to_excel('results/returns_all.xls', sheet_name = 'housing', index=False)\n",
    "\n",
    "os.remove('ingatlannet.xls')\n",
    "os.remove('mnb_houseprice.xls')"
   ]
  }
 ],
 "metadata": {
  "kernelspec": {
   "display_name": "Python 3",
   "language": "python",
   "name": "python3"
  },
  "language_info": {
   "codemirror_mode": {
    "name": "ipython",
    "version": 3
   },
   "file_extension": ".py",
   "mimetype": "text/x-python",
   "name": "python",
   "nbconvert_exporter": "python",
   "pygments_lexer": "ipython3",
   "version": "3.7.4"
  }
 },
 "nbformat": 4,
 "nbformat_minor": 2
}
